{
 "cells": [
  {
   "cell_type": "markdown",
   "metadata": {},
   "source": [
    "# Towards Evaluating Creativity in Language"
   ]
  },
  {
   "cell_type": "code",
   "execution_count": 73,
   "metadata": {},
   "outputs": [
    {
     "name": "stdout",
     "output_type": "stream",
     "text": [
      "showing info https://raw.githubusercontent.com/nltk/nltk_data/gh-pages/index.xml\n"
     ]
    },
    {
     "name": "stderr",
     "output_type": "stream",
     "text": [
      "                                                      \n",
      "\u001b[A\n",
      "\n",
      "\u001b[A\u001b[A"
     ]
    },
    {
     "data": {
      "text/plain": [
       "True"
      ]
     },
     "execution_count": 73,
     "metadata": {},
     "output_type": "execute_result"
    }
   ],
   "source": [
    "# Imports...\n",
    "import torch\n",
    "import matplotlib.pyplot\n",
    "import numpy\n",
    "\n",
    "# handy features for downloading the datasets\n",
    "import pathlib, requests\n",
    "\n",
    "import nltk\n",
    "# nltk.download()\n",
    "\n",
    "from datasets import load_dataset"
   ]
  },
  {
   "attachments": {},
   "cell_type": "markdown",
   "metadata": {},
   "source": [
    "## Load datasets"
   ]
  },
  {
   "cell_type": "code",
   "execution_count": 56,
   "metadata": {},
   "outputs": [
    {
     "name": "stderr",
     "output_type": "stream",
     "text": [
      "Using custom data configuration val-85d52daad032b236\n",
      "Found cached dataset csv (/home/matey/.cache/huggingface/datasets/csv/val-85d52daad032b236/0.0.0/6b34fb8fcf56f7c8ba51dc895bfa2bfbe43546f190a60fcf74bb5e8afdcc2317)\n",
      "\n",
      "\n",
      "\n",
      "100%|██████████| 1/1 [00:00<00:00, 328.35it/s]\n",
      "\n",
      "\n",
      "\n",
      "Downloading builder script: 100%|██████████| 3.73k/3.73k [00:00<00:00, 1.25MB/s]\n",
      "\n",
      "\n",
      "\n",
      "Downloading metadata: 100%|██████████| 1.90k/1.90k [00:00<00:00, 1.05MB/s]\n",
      "\n",
      "\n",
      "\n",
      "Downloading readme: 100%|██████████| 6.10k/6.10k [00:00<00:00, 1.33MB/s]\n"
     ]
    },
    {
     "name": "stdout",
     "output_type": "stream",
     "text": [
      "Downloading and preparing dataset tiny_shakespeare/default to /home/matey/.cache/huggingface/datasets/tiny_shakespeare/default/1.0.0/b5b13969f09fe8707337f6cb296314fbe06960bd9a868dca39e713e163d27b5e...\n"
     ]
    },
    {
     "name": "stderr",
     "output_type": "stream",
     "text": [
      "\n",
      "\n",
      "\n",
      "Downloading data: 1.12MB [00:00, 19.9MB/s]                  \n",
      "\n",
      "\n",
      "\n",
      "\u001b[A\u001b[A\u001b[A\n",
      "\n",
      "\n",
      "\u001b[A\u001b[A\u001b[A\n",
      "\n",
      "\n",
      "\u001b[A\u001b[A\u001b[A\n",
      "\n",
      "\n",
      "\u001b[A\u001b[A\u001b[A\n",
      "\n",
      "\n",
      "\u001b[A\u001b[A\u001b[A\n",
      "\n",
      "\n",
      "\u001b[A\u001b[A\u001b[A"
     ]
    },
    {
     "name": "stdout",
     "output_type": "stream",
     "text": [
      "Dataset tiny_shakespeare downloaded and prepared to /home/matey/.cache/huggingface/datasets/tiny_shakespeare/default/1.0.0/b5b13969f09fe8707337f6cb296314fbe06960bd9a868dca39e713e163d27b5e. Subsequent calls will reuse this data.\n"
     ]
    },
    {
     "name": "stderr",
     "output_type": "stream",
     "text": [
      "\n",
      "\n",
      "\n",
      "100%|██████████| 3/3 [00:00<00:00, 528.69it/s]\n"
     ]
    }
   ],
   "source": [
    "# Check if the file exists, otherwise download it\n",
    "\n",
    "cloze_train_path = pathlib.Path(\"./data/cloze_test_2018_train.csv\")\n",
    "if not cloze_train_path.exists():\n",
    "    cloze_train_path.write_bytes(requests.get(\"https://goo.gl/0OYkPK\").content)\n",
    "\n",
    "cloze_val_path = pathlib.Path(\"./data/cloze_test_2018_val.csv\")\n",
    "if not cloze_val_path.exists():\n",
    "    cloze_val_path.write_bytes(requests.get(\"https://goo.gl/XWjas1\").content)\n",
    "\n",
    "cloze_test_path = pathlib.Path(\"./data/cloze_test_2018_test.csv\")\n",
    "if not cloze_test_path.exists():\n",
    "    cloze_test_path.write_bytes(requests.get(\"https://goo.gl/BcTtB4\").content)\n",
    "\n",
    "# print(cloze_test_path.__str__())\n",
    "\n",
    "val_ds = load_dataset('csv', \"val\", data_files=cloze_val_path.__str__())\n",
    "tiny_shakespeare = load_dataset('tiny_shakespeare')\n",
    "\n",
    "# Load the datasets later\n",
    "# train_ds = load_dataset('csv', \"train\", data_files=cloze_train_path.__str__())\n",
    "# test_ds = load_dataset('csv', \"test\", data_files=cloze_test_path.__str__())"
   ]
  },
  {
   "cell_type": "code",
   "execution_count": 74,
   "metadata": {},
   "outputs": [
    {
     "data": {
      "text/plain": [
       "[('The', 'DT'),\n",
       " ('quick', 'JJ'),\n",
       " ('brown', 'NN'),\n",
       " ('fox', 'NN'),\n",
       " ('jumps', 'VBZ'),\n",
       " ('over', 'IN'),\n",
       " ('the', 'DT'),\n",
       " ('lazy', 'JJ'),\n",
       " ('dog', 'NN'),\n",
       " ('.', '.')]"
      ]
     },
     "execution_count": 74,
     "metadata": {},
     "output_type": "execute_result"
    }
   ],
   "source": [
    "# Yikes, the chaining to access this\n",
    "# tiny_shakespeare[\"train\"][0][\"text\"].__len__()\n",
    "\n",
    "nltk.pos_tag(nltk.word_tokenize(\"The quick brown fox jumps over the lazy dog.\"))"
   ]
  },
  {
   "attachments": {},
   "cell_type": "markdown",
   "metadata": {},
   "source": [
    "### Potential creativity measures\n",
    "#### Usage of more uncommon words\n",
    "**Example:**\n",
    "- \"The quick brown fox jumps over the lazy dog.\"\n",
    "- \"The swift hazel-furred fox leaps over the idle dog.\"\n",
    "**Idea:**\n",
    "Adapt resources such as WordNet for finding semantically similar words and compare them to their most used synonym. The more uncommon the word, the more creative the sentence.\n",
    "Potential problems: words could be too far off from their actual meaning in the context. For example, here \"leaps\" is a synonym for \"jumps\", but using the word \"vaults\" or \"springs\" might not fit the context.\n",
    "\n"
   ]
  },
  {
   "cell_type": "code",
   "execution_count": null,
   "metadata": {},
   "outputs": [],
   "source": [
    "# Idea: "
   ]
  }
 ],
 "metadata": {
  "kernelspec": {
   "display_name": "mlkit",
   "language": "python",
   "name": "python3"
  },
  "language_info": {
   "codemirror_mode": {
    "name": "ipython",
    "version": 3
   },
   "file_extension": ".py",
   "mimetype": "text/x-python",
   "name": "python",
   "nbconvert_exporter": "python",
   "pygments_lexer": "ipython3",
   "version": "3.10.9"
  },
  "orig_nbformat": 4,
  "vscode": {
   "interpreter": {
    "hash": "c662b67a930614233144f66f9ac71727bbd4bcb357ddd0b1cb0efc752645ac1b"
   }
  }
 },
 "nbformat": 4,
 "nbformat_minor": 2
}
